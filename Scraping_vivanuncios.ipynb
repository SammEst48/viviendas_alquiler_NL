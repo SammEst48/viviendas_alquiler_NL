{
 "cells": [
  {
   "cell_type": "markdown",
   "metadata": {},
   "source": [
    "# Scraping vivanuncios"
   ]
  },
  {
   "cell_type": "code",
   "execution_count": 1,
   "metadata": {},
   "outputs": [],
   "source": [
    "# Librerías necesarias\n",
    "import pandas as pd\n",
    "import requests\n",
    "from bs4 import BeautifulSoup"
   ]
  },
  {
   "cell_type": "markdown",
   "metadata": {},
   "source": [
    "## Anuncios departamentos en renta (Nuevo León, Mex.)"
   ]
  },
  {
   "cell_type": "code",
   "execution_count": 2,
   "metadata": {},
   "outputs": [],
   "source": [
    "# URL de la páginas de Vivanuncios\n",
    "urls_1 = [\n",
    "    'https://www.vivanuncios.com.mx/s-departamentos-en-renta/nuevo-leon/v1c1300l1018p1', \n",
    "    'https://www.vivanuncios.com.mx/s-departamentos-en-renta/nuevo-leon/page-2/v1c1300l1018p2', \n",
    "    'https://www.vivanuncios.com.mx/s-departamentos-en-renta/nuevo-leon/page-3/v1c1300l1018p3',\n",
    "    'https://www.vivanuncios.com.mx/s-departamentos-en-renta/nuevo-leon/page-4/v1c1300l1018p4',\n",
    "    'https://www.vivanuncios.com.mx/s-departamentos-en-renta/nuevo-leon/page-5/v1c1300l1018p5',\n",
    "    'https://www.vivanuncios.com.mx/s-departamentos-en-renta/nuevo-leon/page-6/v1c1300l1018p6',\n",
    "    'https://www.vivanuncios.com.mx/s-departamentos-en-renta/nuevo-leon/page-7/v1c1300l1018p7',\n",
    "    'https://www.vivanuncios.com.mx/s-departamentos-en-renta/nuevo-leon/page-8/v1c1300l1018p8',\n",
    "    'https://www.vivanuncios.com.mx/s-departamentos-en-renta/nuevo-leon/page-9/v1c1300l1018p9',\n",
    "    'https://www.vivanuncios.com.mx/s-departamentos-en-renta/nuevo-leon/page-10/v1c1300l1018p10',\n",
    "    'https://www.vivanuncios.com.mx/s-departamentos-en-renta/nuevo-leon/page-11/v1c1300l1018p11',\n",
    "    'https://www.vivanuncios.com.mx/s-departamentos-en-renta/nuevo-leon/page-12/v1c1300l1018p12',\n",
    "    'https://www.vivanuncios.com.mx/s-departamentos-en-renta/nuevo-leon/page-13/v1c1300l1018p13',\n",
    "    'https://www.vivanuncios.com.mx/s-departamentos-en-renta/nuevo-leon/page-14/v1c1300l1018p14',\n",
    "    'https://www.vivanuncios.com.mx/s-departamentos-en-renta/nuevo-leon/page-15/v1c1300l1018p15',\n",
    "    'https://www.vivanuncios.com.mx/s-departamentos-en-renta/nuevo-leon/page-16/v1c1300l1018p16',\n",
    "    'https://www.vivanuncios.com.mx/s-departamentos-en-renta/nuevo-leon/page-17/v1c1300l1018p17',\n",
    "    'https://www.vivanuncios.com.mx/s-departamentos-en-renta/nuevo-leon/page-18/v1c1300l1018p18',\n",
    "    'https://www.vivanuncios.com.mx/s-departamentos-en-renta/nuevo-leon/page-19/v1c1300l1018p19',\n",
    "    'https://www.vivanuncios.com.mx/s-departamentos-en-renta/nuevo-leon/page-20/v1c1300l1018p20'\n",
    "]"
   ]
  },
  {
   "cell_type": "markdown",
   "metadata": {},
   "source": [
    "### Haciendo la solicitud y obteniendo el contenido"
   ]
  },
  {
   "cell_type": "code",
   "execution_count": 3,
   "metadata": {},
   "outputs": [
    {
     "name": "stdout",
     "output_type": "stream",
     "text": [
      "Se encontraron 30 anuncios en https://www.vivanuncios.com.mx/s-departamentos-en-renta/nuevo-leon/v1c1300l1018p1\n",
      "Se encontraron 30 anuncios en https://www.vivanuncios.com.mx/s-departamentos-en-renta/nuevo-leon/page-2/v1c1300l1018p2\n",
      "Se encontraron 30 anuncios en https://www.vivanuncios.com.mx/s-departamentos-en-renta/nuevo-leon/page-3/v1c1300l1018p3\n",
      "Se encontraron 30 anuncios en https://www.vivanuncios.com.mx/s-departamentos-en-renta/nuevo-leon/page-4/v1c1300l1018p4\n",
      "Se encontraron 30 anuncios en https://www.vivanuncios.com.mx/s-departamentos-en-renta/nuevo-leon/page-5/v1c1300l1018p5\n",
      "Se encontraron 30 anuncios en https://www.vivanuncios.com.mx/s-departamentos-en-renta/nuevo-leon/page-6/v1c1300l1018p6\n",
      "Se encontraron 30 anuncios en https://www.vivanuncios.com.mx/s-departamentos-en-renta/nuevo-leon/page-7/v1c1300l1018p7\n",
      "Se encontraron 30 anuncios en https://www.vivanuncios.com.mx/s-departamentos-en-renta/nuevo-leon/page-8/v1c1300l1018p8\n",
      "Se encontraron 30 anuncios en https://www.vivanuncios.com.mx/s-departamentos-en-renta/nuevo-leon/page-9/v1c1300l1018p9\n",
      "Se encontraron 30 anuncios en https://www.vivanuncios.com.mx/s-departamentos-en-renta/nuevo-leon/page-10/v1c1300l1018p10\n",
      "Se encontraron 30 anuncios en https://www.vivanuncios.com.mx/s-departamentos-en-renta/nuevo-leon/page-11/v1c1300l1018p11\n",
      "Se encontraron 30 anuncios en https://www.vivanuncios.com.mx/s-departamentos-en-renta/nuevo-leon/page-12/v1c1300l1018p12\n",
      "Se encontraron 30 anuncios en https://www.vivanuncios.com.mx/s-departamentos-en-renta/nuevo-leon/page-13/v1c1300l1018p13\n",
      "Se encontraron 30 anuncios en https://www.vivanuncios.com.mx/s-departamentos-en-renta/nuevo-leon/page-14/v1c1300l1018p14\n",
      "Se encontraron 30 anuncios en https://www.vivanuncios.com.mx/s-departamentos-en-renta/nuevo-leon/page-15/v1c1300l1018p15\n",
      "Se encontraron 30 anuncios en https://www.vivanuncios.com.mx/s-departamentos-en-renta/nuevo-leon/page-16/v1c1300l1018p16\n",
      "Se encontraron 30 anuncios en https://www.vivanuncios.com.mx/s-departamentos-en-renta/nuevo-leon/page-17/v1c1300l1018p17\n",
      "Se encontraron 30 anuncios en https://www.vivanuncios.com.mx/s-departamentos-en-renta/nuevo-leon/page-18/v1c1300l1018p18\n",
      "Se encontraron 30 anuncios en https://www.vivanuncios.com.mx/s-departamentos-en-renta/nuevo-leon/page-19/v1c1300l1018p19\n",
      "Se encontraron 30 anuncios en https://www.vivanuncios.com.mx/s-departamentos-en-renta/nuevo-leon/page-20/v1c1300l1018p20\n",
      "Número total de anuncios encontrados: 600\n"
     ]
    }
   ],
   "source": [
    "# Definir la lista de resultados\n",
    "results_1 = []\n",
    "\n",
    "# Recorrer cada URL con User-Agent para simular un navegador\n",
    "for url in urls_1:\n",
    "    headers = {\n",
    "        'User-Agent': 'Mozilla/5.0 (Windows NT 10.0; Win64; x64) AppleWebKit/537.36 (KHTML, like Gecko) Chrome/91.0.4472.124 Safari/537.36'\n",
    "    }\n",
    "    \n",
    "    # Realiza la solicitud HTTP\n",
    "    response = requests.get(url, headers=headers)\n",
    "\n",
    "    # Verifica que la solicitud fue exitosa\n",
    "    if response.status_code == 200:\n",
    "        # Extrae el contenido HTML de la página\n",
    "        html_content = response.content\n",
    "        \n",
    "        # Usa BeautifulSoup para analizar el HTML\n",
    "        soup = BeautifulSoup(html_content, 'html.parser')\n",
    "        \n",
    "        # Encontrar todos los contenedores de anuncios\n",
    "        ad_containers = soup.find_all('div', class_='CardContainer-sc-1tt2vbg-5 fvuHxG')\n",
    "        \n",
    "        # Comprobar si se encontraron anuncios\n",
    "        if not ad_containers:\n",
    "            print(f\"No se encontraron anuncios en {url}\")\n",
    "        \n",
    "        # Extraer información de cada contenedor\n",
    "        for ad in ad_containers:\n",
    "            # Precio\n",
    "            price = ad.find('div', class_='PostingCardPriceBlock-sc-12dh9kl-0 diTcpX')\n",
    "            price = price.get_text(strip=True) if price else 'No disponible'\n",
    "            \n",
    "            # Dirección\n",
    "            address = ad.find('div', class_='LocationAddress-sc-ge2uzh-0 jszIDc postingAddress')\n",
    "            address = address.get_text(strip=True) if address else 'No disponible'\n",
    "            \n",
    "            # Ubicación\n",
    "            location = ad.find('h2', class_='LocationLocation-sc-ge2uzh-2 fziprF')\n",
    "            location = location.get_text(strip=True) if location else 'No disponible'\n",
    "            \n",
    "            # Características\n",
    "            features = ad.find('h3', class_='PostingMainFeaturesBlock-sc-1uhtbxc-0 cHDgeO')\n",
    "            features = features.get_text(strip=True) if features else 'No disponible'\n",
    "            \n",
    "            # Descripción\n",
    "            description = ad.find('h3', class_='PostingDescription-sc-i1odl-11 fECErU')\n",
    "            description = description.get_text(strip=True) if description else 'No disponible'\n",
    "            \n",
    "            # Agregar resultados a la lista\n",
    "            results_1.append({\n",
    "                'Precio': price,\n",
    "                'Dirección': address,\n",
    "                'Ubicación': location,\n",
    "                'Características': features,\n",
    "                'Descripción': description,\n",
    "            })\n",
    "        \n",
    "        print(f\"Se encontraron {len(ad_containers)} anuncios en {url}\")\n",
    "\n",
    "    else:\n",
    "        print(f\"Error: No se pudo acceder a la página {url} (status code: {response.status_code})\")\n",
    "\n",
    "# Crear un DataFrame y exportar a CSV\n",
    "df_1 = pd.DataFrame(results_1)\n",
    "print(f\"Número total de anuncios encontrados: {len(df_1)}\")\n",
    "\n"
   ]
  },
  {
   "cell_type": "code",
   "execution_count": 4,
   "metadata": {},
   "outputs": [
    {
     "name": "stdout",
     "output_type": "stream",
     "text": [
      "<class 'pandas.core.frame.DataFrame'>\n",
      "RangeIndex: 600 entries, 0 to 599\n",
      "Data columns (total 5 columns):\n",
      " #   Column           Non-Null Count  Dtype \n",
      "---  ------           --------------  ----- \n",
      " 0   Precio           600 non-null    object\n",
      " 1   Dirección        600 non-null    object\n",
      " 2   Ubicación        600 non-null    object\n",
      " 3   Características  600 non-null    object\n",
      " 4   Descripción      600 non-null    object\n",
      "dtypes: object(5)\n",
      "memory usage: 23.6+ KB\n"
     ]
    }
   ],
   "source": [
    "# Informacion general del nuevo dataframe\n",
    "df_1.info()"
   ]
  },
  {
   "cell_type": "code",
   "execution_count": 5,
   "metadata": {},
   "outputs": [],
   "source": [
    "# Exportar a csv\n",
    "df_1.to_csv('departamentos_renta.csv', index=False)"
   ]
  },
  {
   "cell_type": "markdown",
   "metadata": {},
   "source": [
    "## Anuncios casas en renta (Nuevo León, Mex.)"
   ]
  },
  {
   "cell_type": "code",
   "execution_count": 6,
   "metadata": {},
   "outputs": [],
   "source": [
    "# URL de la páginas de Vivanuncios\n",
    "urls_2 = [\n",
    "    'https://www.vivanuncios.com.mx/s-casas-en-renta/nuevo-leon/v1c1299l1018p1', \n",
    "    'https://www.vivanuncios.com.mx/s-casas-en-renta/nuevo-leon/page-2/v1c1299l1018p2', \n",
    "    'https://www.vivanuncios.com.mx/s-casas-en-renta/nuevo-leon/page-3/v1c1299l1018p3',\n",
    "    'https://www.vivanuncios.com.mx/s-casas-en-renta/nuevo-leon/page-4/v1c1299l1018p4',\n",
    "    'https://www.vivanuncios.com.mx/s-casas-en-renta/nuevo-leon/page-5/v1c1299l1018p5',\n",
    "    'https://www.vivanuncios.com.mx/s-casas-en-renta/nuevo-leon/page-6/v1c1299l1018p6',\n",
    "    'https://www.vivanuncios.com.mx/s-casas-en-renta/nuevo-leon/page-7/v1c1299l1018p7',\n",
    "    'https://www.vivanuncios.com.mx/s-casas-en-renta/nuevo-leon/page-8/v1c1299l1018p8',\n",
    "    'https://www.vivanuncios.com.mx/s-casas-en-renta/nuevo-leon/page-9/v1c1299l1018p9',\n",
    "    'https://www.vivanuncios.com.mx/s-casas-en-renta/nuevo-leon/page-10/v1c1299l1018p10',\n",
    "    'https://www.vivanuncios.com.mx/s-casas-en-renta/nuevo-leon/page-11/v1c1299l1018p11',\n",
    "    'https://www.vivanuncios.com.mx/s-casas-en-renta/nuevo-leon/page-12/v1c1299l1018p12',\n",
    "    'https://www.vivanuncios.com.mx/s-casas-en-renta/nuevo-leon/page-13/v1c1299l1018p13',\n",
    "    'https://www.vivanuncios.com.mx/s-casas-en-renta/nuevo-leon/page-14/v1c1299l1018p14',\n",
    "    'https://www.vivanuncios.com.mx/s-casas-en-renta/nuevo-leon/page-15/v1c1299l1018p15',\n",
    "    'https://www.vivanuncios.com.mx/s-casas-en-renta/nuevo-leon/page-16/v1c1299l1018p16',\n",
    "    'https://www.vivanuncios.com.mx/s-casas-en-renta/nuevo-leon/page-17/v1c1299l1018p17',\n",
    "    'https://www.vivanuncios.com.mx/s-casas-en-renta/nuevo-leon/page-18/v1c1299l1018p18',\n",
    "    'https://www.vivanuncios.com.mx/s-casas-en-renta/nuevo-leon/page-19/v1c1299l1018p19',\n",
    "    'https://www.vivanuncios.com.mx/s-casas-en-renta/nuevo-leon/page-20/v1c1299l1018p20'\n",
    "]"
   ]
  },
  {
   "cell_type": "markdown",
   "metadata": {},
   "source": [
    "### Haciendo la solicitud y obteniendo el contenido"
   ]
  },
  {
   "cell_type": "code",
   "execution_count": 7,
   "metadata": {},
   "outputs": [
    {
     "name": "stdout",
     "output_type": "stream",
     "text": [
      "Se encontraron 30 anuncios en https://www.vivanuncios.com.mx/s-casas-en-renta/nuevo-leon/v1c1299l1018p1\n",
      "Se encontraron 30 anuncios en https://www.vivanuncios.com.mx/s-casas-en-renta/nuevo-leon/page-2/v1c1299l1018p2\n",
      "Se encontraron 30 anuncios en https://www.vivanuncios.com.mx/s-casas-en-renta/nuevo-leon/page-3/v1c1299l1018p3\n",
      "Se encontraron 30 anuncios en https://www.vivanuncios.com.mx/s-casas-en-renta/nuevo-leon/page-4/v1c1299l1018p4\n",
      "Se encontraron 30 anuncios en https://www.vivanuncios.com.mx/s-casas-en-renta/nuevo-leon/page-5/v1c1299l1018p5\n",
      "Se encontraron 30 anuncios en https://www.vivanuncios.com.mx/s-casas-en-renta/nuevo-leon/page-6/v1c1299l1018p6\n",
      "Se encontraron 30 anuncios en https://www.vivanuncios.com.mx/s-casas-en-renta/nuevo-leon/page-7/v1c1299l1018p7\n",
      "Se encontraron 30 anuncios en https://www.vivanuncios.com.mx/s-casas-en-renta/nuevo-leon/page-8/v1c1299l1018p8\n",
      "Se encontraron 30 anuncios en https://www.vivanuncios.com.mx/s-casas-en-renta/nuevo-leon/page-9/v1c1299l1018p9\n",
      "Se encontraron 30 anuncios en https://www.vivanuncios.com.mx/s-casas-en-renta/nuevo-leon/page-10/v1c1299l1018p10\n",
      "Se encontraron 30 anuncios en https://www.vivanuncios.com.mx/s-casas-en-renta/nuevo-leon/page-11/v1c1299l1018p11\n",
      "Se encontraron 30 anuncios en https://www.vivanuncios.com.mx/s-casas-en-renta/nuevo-leon/page-12/v1c1299l1018p12\n",
      "Se encontraron 30 anuncios en https://www.vivanuncios.com.mx/s-casas-en-renta/nuevo-leon/page-13/v1c1299l1018p13\n",
      "Se encontraron 30 anuncios en https://www.vivanuncios.com.mx/s-casas-en-renta/nuevo-leon/page-14/v1c1299l1018p14\n",
      "Se encontraron 30 anuncios en https://www.vivanuncios.com.mx/s-casas-en-renta/nuevo-leon/page-15/v1c1299l1018p15\n",
      "Se encontraron 30 anuncios en https://www.vivanuncios.com.mx/s-casas-en-renta/nuevo-leon/page-16/v1c1299l1018p16\n",
      "Se encontraron 30 anuncios en https://www.vivanuncios.com.mx/s-casas-en-renta/nuevo-leon/page-17/v1c1299l1018p17\n",
      "Se encontraron 30 anuncios en https://www.vivanuncios.com.mx/s-casas-en-renta/nuevo-leon/page-18/v1c1299l1018p18\n",
      "Se encontraron 30 anuncios en https://www.vivanuncios.com.mx/s-casas-en-renta/nuevo-leon/page-19/v1c1299l1018p19\n",
      "Se encontraron 30 anuncios en https://www.vivanuncios.com.mx/s-casas-en-renta/nuevo-leon/page-20/v1c1299l1018p20\n",
      "Número total de anuncios encontrados: 600\n"
     ]
    }
   ],
   "source": [
    "# Definir la lista de resultados\n",
    "results_2 = []\n",
    "\n",
    "# Recorrer cada URL con User-Agent para simular un navegador\n",
    "for url in urls_2:\n",
    "    headers = {\n",
    "        'User-Agent': 'Mozilla/5.0 (Windows NT 10.0; Win64; x64) AppleWebKit/537.36 (KHTML, like Gecko) Chrome/91.0.4472.124 Safari/537.36'\n",
    "    }\n",
    "    \n",
    "    # Realiza la solicitud HTTP\n",
    "    response = requests.get(url, headers=headers)\n",
    "\n",
    "    # Verifica que la solicitud fue exitosa\n",
    "    if response.status_code == 200:\n",
    "        # Extrae el contenido HTML de la página\n",
    "        html_content = response.content\n",
    "        \n",
    "        # Usa BeautifulSoup para analizar el HTML\n",
    "        soup = BeautifulSoup(html_content, 'html.parser')\n",
    "        \n",
    "        # Encontrar todos los contenedores de anuncios\n",
    "        ad_containers = soup.find_all('div', class_='CardContainer-sc-1tt2vbg-5 fvuHxG')\n",
    "        \n",
    "        # Comprobar si se encontraron anuncios\n",
    "        if not ad_containers:\n",
    "            print(f\"No se encontraron anuncios en {url}\")\n",
    "        \n",
    "        # Extraer información de cada contenedor\n",
    "        for ad in ad_containers:\n",
    "            # Precio\n",
    "            price = ad.find('div', class_='PostingCardPriceBlock-sc-12dh9kl-0 diTcpX')\n",
    "            price = price.get_text(strip=True) if price else 'No disponible'\n",
    "            \n",
    "            # Dirección\n",
    "            address = ad.find('div', class_='LocationAddress-sc-ge2uzh-0 jszIDc postingAddress')\n",
    "            address = address.get_text(strip=True) if address else 'No disponible'\n",
    "            \n",
    "            # Ubicación\n",
    "            location = ad.find('h2', class_='LocationLocation-sc-ge2uzh-2 fziprF')\n",
    "            location = location.get_text(strip=True) if location else 'No disponible'\n",
    "            \n",
    "            # Características\n",
    "            features = ad.find('h3', class_='PostingMainFeaturesBlock-sc-1uhtbxc-0 cHDgeO')\n",
    "            features = features.get_text(strip=True) if features else 'No disponible'\n",
    "            \n",
    "            # Descripción\n",
    "            description = ad.find('h3', class_='PostingDescription-sc-i1odl-11 fECErU')\n",
    "            description = description.get_text(strip=True) if description else 'No disponible'\n",
    "            \n",
    "            # Agregar resultados a la lista\n",
    "            results_2.append({\n",
    "                'Precio': price,\n",
    "                'Dirección': address,\n",
    "                'Ubicación': location,\n",
    "                'Características': features,\n",
    "                'Descripción': description,\n",
    "            })\n",
    "        \n",
    "        print(f\"Se encontraron {len(ad_containers)} anuncios en {url}\")\n",
    "\n",
    "    else:\n",
    "        print(f\"Error: No se pudo acceder a la página {url} (status code: {response.status_code})\")\n",
    "\n",
    "# Crear un DataFrame y exportar a CSV\n",
    "df_2 = pd.DataFrame(results_2)\n",
    "print(f\"Número total de anuncios encontrados: {len(df_2)}\")"
   ]
  },
  {
   "cell_type": "code",
   "execution_count": 8,
   "metadata": {},
   "outputs": [
    {
     "name": "stdout",
     "output_type": "stream",
     "text": [
      "<class 'pandas.core.frame.DataFrame'>\n",
      "RangeIndex: 600 entries, 0 to 599\n",
      "Data columns (total 5 columns):\n",
      " #   Column           Non-Null Count  Dtype \n",
      "---  ------           --------------  ----- \n",
      " 0   Precio           600 non-null    object\n",
      " 1   Dirección        600 non-null    object\n",
      " 2   Ubicación        600 non-null    object\n",
      " 3   Características  600 non-null    object\n",
      " 4   Descripción      600 non-null    object\n",
      "dtypes: object(5)\n",
      "memory usage: 23.6+ KB\n"
     ]
    }
   ],
   "source": [
    "# Informacion general del nuevo dataframe\n",
    "df_2.info()"
   ]
  },
  {
   "cell_type": "code",
   "execution_count": 9,
   "metadata": {},
   "outputs": [],
   "source": [
    "# Exportar a csv\n",
    "df_2.to_csv('casas_renta.csv', index=False)"
   ]
  }
 ],
 "metadata": {
  "kernelspec": {
   "display_name": "env_notebooks",
   "language": "python",
   "name": "python3"
  },
  "language_info": {
   "codemirror_mode": {
    "name": "ipython",
    "version": 3
   },
   "file_extension": ".py",
   "mimetype": "text/x-python",
   "name": "python",
   "nbconvert_exporter": "python",
   "pygments_lexer": "ipython3",
   "version": "3.11.9"
  }
 },
 "nbformat": 4,
 "nbformat_minor": 2
}
